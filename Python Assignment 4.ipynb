{
 "cells": [
  {
   "cell_type": "markdown",
   "metadata": {},
   "source": [
    "1.1 Write a Python Program(with class concepts) to find the area of the triangle using the below formula. area = (s(s-a)(s-b)(s-c)) * 0.5 Function to take the length of the sides of triangle from user should be defined in the parent class and function to calculate the area should be defined in subclass."
   ]
  },
  {
   "cell_type": "code",
   "execution_count": 1,
   "metadata": {},
   "outputs": [
    {
     "name": "stdout",
     "output_type": "stream",
     "text": [
      "Enter first side of traingle: 5.1\n",
      "Enter second side of traingle: 6.2\n",
      "Enter third side of traingle: 4.2\n",
      "area of triangle: 59.97820318910003\n"
     ]
    }
   ],
   "source": [
    "class length_sides:\n",
    "  def __init__(self,a,b,c):\n",
    "    self.a = float(a)\n",
    "    self.b = float(b)\n",
    "    self.c = float(c)\n",
    "a = float(input(\"Enter first side of traingle: \"))\n",
    "b = float(input(\"Enter second side of traingle: \"))\n",
    "c = float(input(\"Enter third side of traingle: \"))\n",
    "\n",
    "\n",
    "class Triangle(length_sides):\n",
    "  def __init__ (self,a,b,c):\n",
    "    super(). __init__(a,b,c)\n",
    "\n",
    "  def calculate_area(self):\n",
    "    s = (a + b + c) / 2\n",
    "    return (s*(s-a)*(s-b)*(s-c)**0.5)\n",
    "\n",
    "t = Triangle(a,b,c)\n",
    "print(\"area of triangle: {}\" .format(t.calculate_area()))"
   ]
  },
  {
   "cell_type": "markdown",
   "metadata": {},
   "source": [
    "1.2 Write a function filter_long_words() that takes a list of words and an integer n and returns the list of words that are longer than n."
   ]
  },
  {
   "cell_type": "code",
   "execution_count": 2,
   "metadata": {},
   "outputs": [],
   "source": [
    "def filter_long_words(word, number):\n",
    "  list_of_words = []\n",
    "  for i in word:\n",
    "    if len(i) > number:\n",
    "      list_of_words.append(i)\n",
    "  return list_of_words"
   ]
  },
  {
   "cell_type": "code",
   "execution_count": 3,
   "metadata": {},
   "outputs": [
    {
     "name": "stdout",
     "output_type": "stream",
     "text": [
      "['data science', 'machine learning', 'deep learning']\n"
     ]
    }
   ],
   "source": [
    "x = ['data science', 'machine learning', 'deep learning', 'india']\n",
    "print(filter_long_words(x, 6))"
   ]
  },
  {
   "cell_type": "markdown",
   "metadata": {},
   "source": [
    "2.1 Write a Python program using function concept that maps list of words into a list of integers representing the lengths of the corresponding words. Hint: If a list [ ab,cde,erty] is passed on to the python function output should come as [2,3,4] Here 2,3 and 4 are the lengths of the words in the list."
   ]
  },
  {
   "cell_type": "code",
   "execution_count": 4,
   "metadata": {},
   "outputs": [],
   "source": [
    "def word_length(w):\n",
    "  return list(map(lambda x: len(x), w))"
   ]
  },
  {
   "cell_type": "code",
   "execution_count": 5,
   "metadata": {},
   "outputs": [
    {
     "data": {
      "text/plain": [
       "[2, 3, 4]"
      ]
     },
     "execution_count": 5,
     "metadata": {},
     "output_type": "execute_result"
    }
   ],
   "source": [
    "a = [ 'ab','cde','erty']\n",
    "word_length(a)"
   ]
  },
  {
   "cell_type": "markdown",
   "metadata": {},
   "source": [
    "2.2 Write a Python function which takes a character (i.e. a string of length 1) and returns True if it is a vowel, False otherwise."
   ]
  },
  {
   "cell_type": "code",
   "execution_count": 6,
   "metadata": {},
   "outputs": [],
   "source": [
    "def check_vowel(chr):\n",
    "  a = ['a','e','i','o','u']\n",
    "  for i in a:\n",
    "    if chr == i:\n",
    "      return \"Vowel\"\n",
    "    else:\n",
    "      return \"Not a Vowel\""
   ]
  },
  {
   "cell_type": "code",
   "execution_count": 8,
   "metadata": {},
   "outputs": [
    {
     "data": {
      "text/plain": [
       "'Not a Vowel'"
      ]
     },
     "execution_count": 8,
     "metadata": {},
     "output_type": "execute_result"
    }
   ],
   "source": [
    "check_vowel('z')"
   ]
  },
  {
   "cell_type": "code",
   "execution_count": 9,
   "metadata": {},
   "outputs": [
    {
     "data": {
      "text/plain": [
       "'Vowel'"
      ]
     },
     "execution_count": 9,
     "metadata": {},
     "output_type": "execute_result"
    }
   ],
   "source": [
    "check_vowel('a')"
   ]
  },
  {
   "cell_type": "code",
   "execution_count": null,
   "metadata": {},
   "outputs": [],
   "source": []
  }
 ],
 "metadata": {
  "kernelspec": {
   "display_name": "Python 3",
   "language": "python",
   "name": "python3"
  },
  "language_info": {
   "codemirror_mode": {
    "name": "ipython",
    "version": 3
   },
   "file_extension": ".py",
   "mimetype": "text/x-python",
   "name": "python",
   "nbconvert_exporter": "python",
   "pygments_lexer": "ipython3",
   "version": "3.8.5"
  }
 },
 "nbformat": 4,
 "nbformat_minor": 4
}
